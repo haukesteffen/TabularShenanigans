{
 "cells": [
  {
   "cell_type": "code",
   "execution_count": 21,
   "metadata": {},
   "outputs": [
    {
     "name": "stdout",
     "output_type": "stream",
     "text": [
      "Using mps device\n"
     ]
    }
   ],
   "source": [
    "import numpy as np\n",
    "import torch\n",
    "import torch.nn as nn\n",
    "import torch.nn.functional as F\n",
    "from utils.data_util import MushroomDataset\n",
    "from architectures.Transformer import Model\n",
    "from torch.utils.data import DataLoader\n",
    "from dataclasses import dataclass\n",
    "\n",
    "\n",
    "device = (\n",
    "    \"cuda\"\n",
    "    if torch.cuda.is_available()\n",
    "    else \"mps\"\n",
    "    if torch.backends.mps.is_available()\n",
    "    else \"cpu\"\n",
    ")\n",
    "print(f\"Using {device} device\")"
   ]
  },
  {
   "cell_type": "code",
   "execution_count": 19,
   "metadata": {},
   "outputs": [],
   "source": [
    "# set parameters\n",
    "\n",
    "@dataclass\n",
    "class Train_Parameters:\n",
    "    batch_size: int = 256 # number of examples per batch\n",
    "    val_size: float = 0.1 # relative size of validation split\n",
    "    n_eval: int = 100 # evaluate model performance every n_eval steps\n",
    "    max_steps: int = 1001 # maximum number of steps in training\n",
    "\n",
    "@dataclass\n",
    "class Model_Parameters:\n",
    "    d_model: int = 16 # dimension of model\n",
    "    n_embed: int = 8 # dimension of embedding\n",
    "    n_heads: int = 2 # number of heads\n",
    "    head_size: int = n_embed//n_heads # head size\n",
    "    dropout: float = 0.4 # dropout rate\n",
    "    n_in: int = 20 # number of columns in input tensor\n",
    "\n",
    "\n",
    "tparam = Train_Parameters()\n",
    "mparam = Model_Parameters()"
   ]
  },
  {
   "cell_type": "code",
   "execution_count": 20,
   "metadata": {},
   "outputs": [],
   "source": [
    "# create dataset and dataloader objects\n",
    "\n",
    "train_data = MushroomDataset(n_bins=mparam.n_in, subset='train', preprocessors=None, val_size=tparam.val_size)\n",
    "val_data = MushroomDataset(n_bins=mparam.n_in, subset='val', preprocessors=[train_data.preprocessor, train_data.label_enc], val_size=tparam.val_size)\n",
    "test_data = MushroomDataset(n_bins=mparam.n_in, subset='test', preprocessors=[train_data.preprocessor])\n",
    "\n",
    "train_loader = DataLoader(train_data, batch_size=tparam.batch_size, shuffle=True)\n",
    "val_loader = DataLoader(val_data, batch_size=len(val_data))\n",
    "test_loader = DataLoader(test_data, batch_size=tparam.batch_size)"
   ]
  },
  {
   "cell_type": "code",
   "execution_count": 22,
   "metadata": {},
   "outputs": [],
   "source": [
    "model = Model(config=mparam)\n",
    "model = model.to(device)\n",
    "optimizer = torch.optim.AdamW(model.parameters(), lr=3e-4)\n",
    "loss_fn = nn.CrossEntropyLoss()"
   ]
  },
  {
   "cell_type": "code",
   "execution_count": null,
   "metadata": {},
   "outputs": [],
   "source": [
    "size = len(train_loader.dataset)\n",
    "losses = []\n",
    "for epoch in range(10):\n",
    "    print(f'epoch {epoch}:')\n",
    "    for batch, (X, y) in enumerate(train_loader):\n",
    "        X, y = X.to(device), y.to(device)\n",
    "        pred, loss = model(X, y)\n",
    "        optimizer.zero_grad()\n",
    "        loss.backward()\n",
    "        optimizer.step()\n",
    "        losses.append(loss.item())\n",
    "        if batch % 10000 == 0:\n",
    "            current = batch * 32 + len(X)\n",
    "            print(f\"loss: {np.mean(losses[-10000:]):>7f}  [{current:>5d}/{size:>5d}]\")"
   ]
  }
 ],
 "metadata": {
  "kernelspec": {
   "display_name": "LearningPyTorch",
   "language": "python",
   "name": "python3"
  },
  "language_info": {
   "codemirror_mode": {
    "name": "ipython",
    "version": 3
   },
   "file_extension": ".py",
   "mimetype": "text/x-python",
   "name": "python",
   "nbconvert_exporter": "python",
   "pygments_lexer": "ipython3",
   "version": "3.12.2"
  }
 },
 "nbformat": 4,
 "nbformat_minor": 2
}
