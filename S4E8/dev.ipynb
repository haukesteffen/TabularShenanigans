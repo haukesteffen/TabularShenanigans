{
 "cells": [
  {
   "cell_type": "code",
   "execution_count": 1,
   "metadata": {},
   "outputs": [
    {
     "name": "stdout",
     "output_type": "stream",
     "text": [
      "Using mps device\n"
     ]
    }
   ],
   "source": [
    "import numpy as np\n",
    "import torch\n",
    "import torch.nn as nn\n",
    "import torch.nn.functional as F\n",
    "from utils.data_util import MushroomDataset\n",
    "from utils.model_util import TabularTransformer\n",
    "from torch.utils.data import DataLoader\n",
    "from dataclasses import dataclass\n",
    "\n",
    "\n",
    "device = (\n",
    "    \"cuda\"\n",
    "    if torch.cuda.is_available()\n",
    "    else \"mps\"\n",
    "    if torch.backends.mps.is_available()\n",
    "    else \"cpu\"\n",
    ")\n",
    "print(f\"Using {device} device\")"
   ]
  },
  {
   "cell_type": "code",
   "execution_count": 2,
   "metadata": {},
   "outputs": [],
   "source": [
    "# set parameters\n",
    "\n",
    "@dataclass\n",
    "class Train_Parameters:\n",
    "    batch_size: int = 256 # number of examples per batch\n",
    "    val_size: float = 0.1 # relative size of validation split\n",
    "    n_eval: int = 1000 # evaluate model performance every n_eval steps\n",
    "    epochs: int = 3 # number of training epochs\n",
    "\n",
    "@dataclass\n",
    "class Model_Parameters:    \n",
    "    num_features: int = 20 # number of features in input data\n",
    "    num_bins: int = 8 # number of bins in k-bins discretizer\n",
    "    d_model: int = 32 # dimension of model\n",
    "    d_ff: int = 64 # dimension of feed forward layer\n",
    "    num_layers: int = 4 # number of decoder layers\n",
    "    num_heads: int = 4 # number of heads\n",
    "    dropout: float = 0.3 # dropout rate\n",
    "\n",
    "tparam = Train_Parameters()\n",
    "mparam = Model_Parameters()"
   ]
  },
  {
   "cell_type": "code",
   "execution_count": 3,
   "metadata": {},
   "outputs": [],
   "source": [
    "# create dataset and dataloader objects\n",
    "\n",
    "train_data = MushroomDataset(n_bins=mparam.num_bins, subset='train', preprocessors=None, val_size=tparam.val_size)\n",
    "val_data = MushroomDataset(n_bins=mparam.num_bins, subset='val', preprocessors=[train_data.preprocessor, train_data.label_enc], val_size=tparam.val_size)\n",
    "#test_data = MushroomDataset(n_bins=mparam.num_bins, subset='test', preprocessors=[train_data.preprocessor])\n",
    "\n",
    "train_loader = DataLoader(train_data, batch_size=tparam.batch_size, shuffle=True)\n",
    "val_loader = DataLoader(val_data, batch_size=tparam.batch_size)#len(val_data))\n",
    "#test_loader = DataLoader(test_data, batch_size=tparam.batch_size)"
   ]
  },
  {
   "cell_type": "code",
   "execution_count": 4,
   "metadata": {},
   "outputs": [
    {
     "name": "stdout",
     "output_type": "stream",
     "text": [
      "Number of params in model: 57729\n"
     ]
    }
   ],
   "source": [
    "# instantiate model and optimizer\n",
    " \n",
    "model = TabularTransformer(\n",
    "    num_features=mparam.num_features,\n",
    "    num_bins=mparam.num_bins,\n",
    "    d_model=mparam.d_model,\n",
    "    num_layers=mparam.num_layers,\n",
    "    num_heads=mparam.num_heads,\n",
    "    d_ff=mparam.d_ff,\n",
    "    dropout=mparam.dropout\n",
    ")\n",
    "model = model.to(device)\n",
    "print(f'Number of params in model: {sum(p.numel() for p in model.parameters())}')\n",
    "optimizer = torch.optim.AdamW(model.parameters(), lr=3e-4)"
   ]
  },
  {
   "cell_type": "code",
   "execution_count": 5,
   "metadata": {},
   "outputs": [
    {
     "name": "stdout",
     "output_type": "stream",
     "text": [
      "epoch 0:\n",
      "loss: 0.690962  val loss: 0.684374  [    256/2805250]\n",
      "loss: 0.185256  val loss: 0.064665  [ 256256/2805250]\n",
      "loss: 0.058561  val loss: 0.053011  [ 512256/2805250]\n",
      "loss: 0.053062  val loss: 0.051209  [ 768256/2805250]\n",
      "loss: 0.049275  val loss: 0.048218  [1024256/2805250]\n",
      "loss: 0.049464  val loss: 0.047888  [1280256/2805250]\n",
      "loss: 0.047933  val loss: 0.050003  [1536256/2805250]\n",
      "loss: 0.046487  val loss: 0.045751  [1792256/2805250]\n",
      "loss: 0.046397  val loss: 0.045278  [2048256/2805250]\n",
      "loss: 0.045703  val loss: 0.046107  [2304256/2805250]\n",
      "loss: 0.045942  val loss: 0.044801  [2560256/2805250]\n",
      "epoch 1:\n",
      "loss: 0.045455  val loss: 0.044144  [    256/2805250]\n",
      "loss: 0.043912  val loss: 0.043903  [ 256256/2805250]\n",
      "loss: 0.044347  val loss: 0.044172  [ 512256/2805250]\n",
      "loss: 0.042591  val loss: 0.044402  [ 768256/2805250]\n",
      "loss: 0.044300  val loss: 0.044664  [1024256/2805250]\n",
      "loss: 0.042631  val loss: 0.043206  [1280256/2805250]\n",
      "loss: 0.043845  val loss: 0.043747  [1536256/2805250]\n",
      "loss: 0.042797  val loss: 0.042830  [1792256/2805250]\n",
      "loss: 0.043759  val loss: 0.043050  [2048256/2805250]\n",
      "loss: 0.042737  val loss: 0.043115  [2304256/2805250]\n",
      "loss: 0.043803  val loss: 0.043337  [2560256/2805250]\n",
      "epoch 2:\n",
      "loss: 0.043099  val loss: 0.044447  [    256/2805250]\n",
      "loss: 0.042860  val loss: 0.042793  [ 256256/2805250]\n",
      "loss: 0.042087  val loss: 0.042410  [ 512256/2805250]\n",
      "loss: 0.041332  val loss: 0.042475  [ 768256/2805250]\n",
      "loss: 0.041295  val loss: 0.042899  [1024256/2805250]\n",
      "loss: 0.042065  val loss: 0.042580  [1280256/2805250]\n",
      "loss: 0.042545  val loss: 0.042184  [1536256/2805250]\n",
      "loss: 0.042571  val loss: 0.043156  [1792256/2805250]\n",
      "loss: 0.041837  val loss: 0.042663  [2048256/2805250]\n",
      "loss: 0.041293  val loss: 0.042973  [2304256/2805250]\n",
      "loss: 0.041810  val loss: 0.042218  [2560256/2805250]\n"
     ]
    }
   ],
   "source": [
    "# training loop\n",
    "\n",
    "losses = []\n",
    "losses_val = []\n",
    "for epoch in range(tparam.epochs):\n",
    "    model.train()\n",
    "    print(f'epoch {epoch}:')\n",
    "    for batch, (X, y) in enumerate(train_loader):\n",
    "        X, y = X.to(device), y.to(device)\n",
    "        pred, loss = model(X, y)\n",
    "        optimizer.zero_grad()\n",
    "        loss.backward()\n",
    "        optimizer.step()\n",
    "        losses.append(loss.item())\n",
    "        if batch % tparam.n_eval == 0:\n",
    "            with torch.no_grad():\n",
    "                model.eval()\n",
    "                loss_val = []\n",
    "                current = batch * tparam.batch_size + len(X)\n",
    "                for Xval, yval in val_loader:\n",
    "                    Xval, yval = Xval.to(device), yval.to(device)\n",
    "                    pred, loss = model(Xval, yval)\n",
    "                    loss_val.append(loss.item())\n",
    "                losses_val.append(np.mean(loss_val))\n",
    "                print(f\"loss: {np.mean(losses[-tparam.n_eval:]):>7f}  val loss: {losses_val[-1]:>7f}  [{current:>7d}/{len(train_loader.dataset):>7d}]\")"
   ]
  }
 ],
 "metadata": {
  "kernelspec": {
   "display_name": "LearningPyTorch",
   "language": "python",
   "name": "python3"
  },
  "language_info": {
   "codemirror_mode": {
    "name": "ipython",
    "version": 3
   },
   "file_extension": ".py",
   "mimetype": "text/x-python",
   "name": "python",
   "nbconvert_exporter": "python",
   "pygments_lexer": "ipython3",
   "version": "3.12.2"
  }
 },
 "nbformat": 4,
 "nbformat_minor": 2
}
