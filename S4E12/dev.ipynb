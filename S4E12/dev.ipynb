{
 "cells": [
  {
   "cell_type": "code",
   "execution_count": 1,
   "metadata": {},
   "outputs": [],
   "source": [
    "import pandas as pd\n",
    "import numpy as np\n",
    "from autogluon.tabular import TabularPredictor\n",
    "from rmsle import ag_rmsle_clamped_scorer\n",
    "\n",
    "train = pd.read_csv('train.csv', index_col='id')\n",
    "test = pd.read_csv('test.csv', index_col='id')\n",
    "label = 'Premium Amount'"
   ]
  },
  {
   "cell_type": "code",
   "execution_count": null,
   "metadata": {},
   "outputs": [],
   "source": [
    "predictor = TabularPredictor(label=label, eval_metric=ag_rmsle_clamped_scorer)\n",
    "predictor.fit(\n",
    "    train,\n",
    "    presets='best_quality',\n",
    "    time_limit=60*60,\n",
    ")"
   ]
  },
  {
   "cell_type": "code",
   "execution_count": null,
   "metadata": {},
   "outputs": [],
   "source": [
    "predictions = predictor.predict(test)\n",
    "test[label] = np.maximum(predictions.to_list(), 0)\n",
    "test[label].to_csv('submission_5.csv')"
   ]
  },
  {
   "cell_type": "markdown",
   "metadata": {},
   "source": [
    "# **SUBMISSIONS**\n",
    "\n",
    "1. Baseline mit presets='medium'\n",
    "2. presets='best_quality'\n",
    "3. custom rmsle metric\n",
    "4. rmsle clamped scorer to fix negativ log error\n",
    "5. 1 hr time limit"
   ]
  }
 ],
 "metadata": {
  "kernelspec": {
   "display_name": "LearningPyTorch",
   "language": "python",
   "name": "python3"
  },
  "language_info": {
   "codemirror_mode": {
    "name": "ipython",
    "version": 3
   },
   "file_extension": ".py",
   "mimetype": "text/x-python",
   "name": "python",
   "nbconvert_exporter": "python",
   "pygments_lexer": "ipython3",
   "version": "3.12.2"
  }
 },
 "nbformat": 4,
 "nbformat_minor": 2
}
