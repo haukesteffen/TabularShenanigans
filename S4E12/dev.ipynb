{
 "cells": [
  {
   "cell_type": "code",
   "execution_count": 2,
   "metadata": {},
   "outputs": [],
   "source": [
    "import pandas as pd\n",
    "import numpy as np\n",
    "from rmsle import ag_rmsle_clamped_scorer\n",
    "\n",
    "train = pd.read_csv('train.csv', index_col='id')\n",
    "test = pd.read_csv('test.csv', index_col='id')\n",
    "label = 'Premium Amount'"
   ]
  },
  {
   "cell_type": "markdown",
   "metadata": {},
   "source": [
    "# **AutoGluon**"
   ]
  },
  {
   "cell_type": "code",
   "execution_count": null,
   "metadata": {},
   "outputs": [],
   "source": [
    "from autogluon.tabular import TabularPredictor\n",
    "autogluon_model = TabularPredictor(\n",
    "    label=label,\n",
    "    eval_metric='rmse' #ag_rmsle_clamped_scorer\n",
    ")\n",
    "autogluon_model.fit(\n",
    "    train,\n",
    "    presets='best_quality',\n",
    "    time_limit=3*60*60,\n",
    ")"
   ]
  },
  {
   "cell_type": "markdown",
   "metadata": {},
   "source": [
    "# **MLJar**"
   ]
  },
  {
   "cell_type": "code",
   "execution_count": null,
   "metadata": {},
   "outputs": [],
   "source": [
    "from supervised.automl import AutoML\n",
    "\n",
    "mljar_model = AutoML(\n",
    "    eval_metric='rmse',\n",
    "    mode='Compete'\n",
    ")\n",
    "mljar_model.fit(\n",
    "    train.drop(columns=[label]),\n",
    "    train[label]\n",
    ")\n",
    "#predictions = automl.predict(test[[label]])"
   ]
  },
  {
   "cell_type": "markdown",
   "metadata": {},
   "source": [
    "# **TO-DO: Train NN to ensemble AutoML models**"
   ]
  },
  {
   "cell_type": "code",
   "execution_count": 4,
   "metadata": {},
   "outputs": [],
   "source": [
    "#predictions = predictor.predict(test)\n",
    "#test[label] = np.maximum(predictions.to_list(), 0)\n",
    "#test[label].to_csv('submission_5.csv')"
   ]
  }
 ],
 "metadata": {
  "kernelspec": {
   "display_name": "LearningPyTorch",
   "language": "python",
   "name": "python3"
  },
  "language_info": {
   "codemirror_mode": {
    "name": "ipython",
    "version": 3
   },
   "file_extension": ".py",
   "mimetype": "text/x-python",
   "name": "python",
   "nbconvert_exporter": "python",
   "pygments_lexer": "ipython3",
   "version": "3.12.2"
  }
 },
 "nbformat": 4,
 "nbformat_minor": 2
}
