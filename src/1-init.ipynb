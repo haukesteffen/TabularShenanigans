{
 "cells": [
  {
   "cell_type": "code",
   "execution_count": null,
   "id": "414e9bb8",
   "metadata": {},
   "outputs": [],
   "source": [
    "import pathlib\n",
    "\n",
    "from utils.config import load_config\n",
    "from utils.data import initialize_project\n",
    "\n",
    "config_path = pathlib.Path.cwd().parent / \"config.yaml\"\n",
    "config = load_config(config_path)\n",
    "_ = initialize_project(config=config, init_db=True)"
   ]
  }
 ],
 "metadata": {
  "language_info": {
   "name": "python"
  }
 },
 "nbformat": 4,
 "nbformat_minor": 5
}
